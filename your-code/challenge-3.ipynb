{
 "cells": [
  {
   "cell_type": "markdown",
   "metadata": {},
   "source": [
    "# Challenge 3\n",
    "\n",
    "In this challenge we will work on the `Orders` data set. In your work you will apply the thinking process and workflow we showed you in Challenge 2.\n",
    "\n",
    "You are serving as a Business Intelligence Analyst at the headquarter of an international fashion goods chain store. Your boss today asked you to do two things for her:\n",
    "\n",
    "**First, identify two groups of customers from the data set.** The first group is **VIP Customers** whose **aggregated expenses** at your global chain stores are **above the 95th percentile** (aka. 0.95 quantile). The second group is **Preferred Customers** whose **aggregated expenses** are **between the 75th and 95th percentile**.\n",
    "\n",
    "**Second, identify which country has the most of your VIP customers, and which country has the most of your VIP+Preferred Customers combined.**"
   ]
  },
  {
   "cell_type": "markdown",
   "metadata": {},
   "source": [
    "## Q1: How to identify VIP & Preferred Customers?\n",
    "\n",
    "We start by importing all the required libraries:"
   ]
  },
  {
   "cell_type": "code",
   "execution_count": 2,
   "metadata": {},
   "outputs": [],
   "source": [
    "# import required libraries\n",
    "import numpy as np\n",
    "import pandas as pd"
   ]
  },
  {
   "cell_type": "markdown",
   "metadata": {},
   "source": [
    "Next, import `Orders` from Ironhack's database into a dataframe variable called `orders`. Print the head of `orders` to overview the data:"
   ]
  },
  {
   "cell_type": "code",
   "execution_count": 3,
   "metadata": {},
   "outputs": [
    {
     "name": "stdout",
     "output_type": "stream",
     "text": [
      "   Unnamed: 0  InvoiceNo StockCode  year  month  day  hour  \\\n",
      "0           0     536365    85123A  2010     12    3     8   \n",
      "1           1     536365     71053  2010     12    3     8   \n",
      "2           2     536365    84406B  2010     12    3     8   \n",
      "3           3     536365    84029G  2010     12    3     8   \n",
      "4           4     536365    84029E  2010     12    3     8   \n",
      "\n",
      "                           Description  Quantity          InvoiceDate  \\\n",
      "0   white hanging heart t-light holder         6  2010-12-01 08:26:00   \n",
      "1                  white metal lantern         6  2010-12-01 08:26:00   \n",
      "2       cream cupid hearts coat hanger         8  2010-12-01 08:26:00   \n",
      "3  knitted union flag hot water bottle         6  2010-12-01 08:26:00   \n",
      "4       red woolly hottie white heart.         6  2010-12-01 08:26:00   \n",
      "\n",
      "   UnitPrice  CustomerID         Country  amount_spent  \n",
      "0       2.55       17850  United Kingdom         15.30  \n",
      "1       3.39       17850  United Kingdom         20.34  \n",
      "2       2.75       17850  United Kingdom         22.00  \n",
      "3       3.39       17850  United Kingdom         20.34  \n",
      "4       3.39       17850  United Kingdom         20.34  \n"
     ]
    }
   ],
   "source": [
    "# your code here\n",
    "orders = pd.read_csv(\"C:\\IronHack\\labs\\semana3\\lab_df_calculations-main\\lab_df_calculations-main\\your-code\\Orders.csv\")\n",
    "\n",
    "print(orders.head())"
   ]
  },
  {
   "cell_type": "markdown",
   "metadata": {},
   "source": [
    "---\n",
    "\n",
    "\"Identify VIP and Preferred Customers\" is the non-technical goal of your boss. You need to translate that goal into technical languages that data analysts use:\n",
    "\n",
    "## How to label customers whose aggregated `amount_spent` is in a given quantile range?\n"
   ]
  },
  {
   "cell_type": "markdown",
   "metadata": {},
   "source": [
    "We break down the main problem into several sub problems:\n",
    "\n",
    "#### Sub Problem 1: How to aggregate the  `amount_spent` for unique customers?\n",
    "\n",
    "#### Sub Problem 2: How to select customers whose aggregated `amount_spent` is in a given quantile range?\n",
    "\n",
    "#### Sub Problem 3: How to label selected customers as \"VIP\" or \"Preferred\"?\n",
    "\n",
    "*Note: If you want to break down the main problem in a different way, please feel free to revise the sub problems above.*\n",
    "\n",
    "Now in the workspace below, tackle each of the sub problems using the iterative problem solving workflow. Insert cells as necessary to write your codes and explain your steps."
   ]
  },
  {
   "cell_type": "code",
   "execution_count": 10,
   "metadata": {},
   "outputs": [
    {
     "data": {
      "text/plain": [
       "Index([12347, 12348, 12349, 12352, 12356, 12360, 12362, 12370, 12371, 12378,\n",
       "       ...\n",
       "       18241, 18242, 18245, 18251, 18257, 18259, 18260, 18272, 18283, 18287],\n",
       "      dtype='int64', name='CustomerID', length=868)"
      ]
     },
     "execution_count": 10,
     "metadata": {},
     "output_type": "execute_result"
    }
   ],
   "source": [
    "# your code here\n",
    "grupo = orders.groupby('CustomerID').sum()\n",
    "\n",
    "porcen_95 = grupo.amount_spent.quantile(0.95)\n",
    "porcen_75 = grupo.amount_spent.quantile(0.75)\n",
    "\n",
    "vip = grupo[grupo.amount_spent >= porcen_95].index\n",
    "preferred = grupo[(grupo.amount_spent <=porcen_95) & (grupo.amount_spent >= porcen_75)].index\n",
    "preferred"
   ]
  },
  {
   "cell_type": "markdown",
   "metadata": {},
   "source": [
    "Now we'll leave it to you to solve Q2 & Q3, which you can leverage from your solution for Q1:\n",
    "\n",
    "## Q2: How to identify which country has the most VIP Customers?"
   ]
  },
  {
   "cell_type": "code",
   "execution_count": 25,
   "metadata": {},
   "outputs": [
    {
     "name": "stdout",
     "output_type": "stream",
     "text": [
      "Country\n",
      "United Kingdom     177\n",
      "Germany             10\n",
      "France               9\n",
      "Switzerland          3\n",
      "Portugal             2\n",
      "Japan                2\n",
      "Spain                2\n",
      "EIRE                 2\n",
      "Australia            2\n",
      "Norway               1\n",
      "Sweden               1\n",
      "Netherlands          1\n",
      "Cyprus               1\n",
      "Singapore            1\n",
      "Finland              1\n",
      "Channel Islands      1\n",
      "Denmark              1\n",
      "Name: count, dtype: int64\n"
     ]
    }
   ],
   "source": [
    "# your code here\n",
    "orders[orders.CustomerID.isin(vip)].Country.value_counts()\n",
    "\n",
    "orders[orders.CustomerID.isin(vip)].drop_duplicates(subset=[\"CustomerID\", \"Country\"])\n",
    "most_vips = orders[orders.CustomerID.isin(vip)].drop_duplicates(subset=[\"CustomerID\"]).Country.value_counts()\n",
    "most_preferred = orders[orders.CustomerID.isin(preferred)].drop_duplicates(subset=[\"CustomerID\"]).Country.value_counts()\n",
    "print(most_vips)"
   ]
  },
  {
   "cell_type": "markdown",
   "metadata": {},
   "source": [
    "## Q3: How to identify which country has the most VIP+Preferred Customers combined?"
   ]
  },
  {
   "cell_type": "code",
   "execution_count": 28,
   "metadata": {},
   "outputs": [
    {
     "data": {
      "text/plain": [
       "Country\n",
       "United Kingdom     932\n",
       "Germany             39\n",
       "France              29\n",
       "Belgium             11\n",
       "Switzerland          9\n",
       "Norway               7\n",
       "Spain                7\n",
       "Portugal             7\n",
       "Italy                5\n",
       "Finland              5\n",
       "Australia            4\n",
       "Channel Islands      4\n",
       "Japan                4\n",
       "Cyprus               3\n",
       "Denmark              3\n",
       "EIRE                 3\n",
       "Sweden               2\n",
       "Israel               2\n",
       "Iceland              1\n",
       "Netherlands          1\n",
       "Poland               1\n",
       "Greece               1\n",
       "Singapore            1\n",
       "Lebanon              1\n",
       "Austria              1\n",
       "Malta                1\n",
       "Canada               1\n",
       "Name: count, dtype: int64"
      ]
     },
     "execution_count": 28,
     "metadata": {},
     "output_type": "execute_result"
    }
   ],
   "source": [
    "# your code here\n",
    "\n",
    "total = grupo[grupo.amount_spent >= porcen_75].index\n",
    "total_cust = orders[orders.CustomerID.isin(total)].drop_duplicates(subset=[\"CustomerID\"]).Country.value_counts()\n",
    "total_cust"
   ]
  },
  {
   "cell_type": "code",
   "execution_count": null,
   "metadata": {},
   "outputs": [],
   "source": []
  }
 ],
 "metadata": {
  "kernelspec": {
   "display_name": "Python 3 (ipykernel)",
   "language": "python",
   "name": "python3"
  },
  "language_info": {
   "codemirror_mode": {
    "name": "ipython",
    "version": 3
   },
   "file_extension": ".py",
   "mimetype": "text/x-python",
   "name": "python",
   "nbconvert_exporter": "python",
   "pygments_lexer": "ipython3",
   "version": "3.11.5"
  }
 },
 "nbformat": 4,
 "nbformat_minor": 2
}
